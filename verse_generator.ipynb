{
 "cells": [
  {
   "cell_type": "markdown",
   "metadata": {},
   "source": [
    "# Generating Apocalyptic Poems Inspired by the Book of Revelation"
   ]
  },
  {
   "cell_type": "code",
   "execution_count": 40,
   "metadata": {},
   "outputs": [],
   "source": [
    "import random\n",
    "import string"
   ]
  },
  {
   "cell_type": "markdown",
   "metadata": {},
   "source": [
    "### Preprocessing Inspiring Set\n",
    "Create an ordered list of all the words in the Book of Revelation."
   ]
  },
  {
   "cell_type": "code",
   "execution_count": 1,
   "metadata": {},
   "outputs": [],
   "source": [
    "inspiration = open(\"book_of_revelation.txt\", \"r\").read()\n",
    "inspiration = ''.join([i for i in inspiration]).replace(\"\\n\", \" \").split(' ')"
   ]
  },
  {
   "cell_type": "code",
   "execution_count": 23,
   "metadata": {},
   "outputs": [],
   "source": [
    "i = 1\n",
    "word_dict = {}\n",
    "n_words = 100 # length of generated verse\n"
   ]
  },
  {
   "cell_type": "markdown",
   "metadata": {},
   "source": [
    "### Probabilities of a Word Following another Word"
   ]
  },
  {
   "cell_type": "code",
   "execution_count": 24,
   "metadata": {},
   "outputs": [],
   "source": [
    "# Generating a dictionary for counting how many times a word is followed by any other word\n",
    "for i in range(1, len(inspiration)):\n",
    "\tword = inspiration[i]\n",
    "\tkey = inspiration[i - 1]\n",
    "\tif key in word_dict:\n",
    "\t\tif word in word_dict[key]:\n",
    "\t\t\tword_dict[key][word] += 1\n",
    "\t\telse:\n",
    "\t\t\tword_dict[key][word] = 1\n",
    "\telse:\n",
    "\t\tword_dict[key] = {word: 1}"
   ]
  },
  {
   "cell_type": "code",
   "execution_count": 21,
   "metadata": {},
   "outputs": [],
   "source": [
    "#print(word_dict)"
   ]
  },
  {
   "cell_type": "code",
   "execution_count": 26,
   "metadata": {},
   "outputs": [],
   "source": [
    "# Converting the counts to probabilities\n",
    "def get_after_words_prob(word_dict):\n",
    "    word_dict_prob = word_dict.copy()\n",
    "    for key_word in word_dict:\n",
    "        words_after_key_word = word_dict[key_word]\n",
    "        sum_occurences = 0\n",
    "        for word in words_after_key_word:\n",
    "            sum_occurences += words_after_key_word[word]\n",
    "        for word in words_after_key_word:\n",
    "            word_dict_prob[key_word][word] = word_dict[key_word][word]/sum_occurences\n",
    "\n",
    "    return word_dict_prob"
   ]
  },
  {
   "cell_type": "code",
   "execution_count": 28,
   "metadata": {},
   "outputs": [],
   "source": [
    "word_dict_prob = get_after_words_prob(word_dict)\n",
    "#print(word_dict_prob)"
   ]
  },
  {
   "cell_type": "markdown",
   "metadata": {},
   "source": [
    "### Generating a New Verse Begining with a Certain Word"
   ]
  },
  {
   "cell_type": "code",
   "execution_count": 45,
   "metadata": {},
   "outputs": [],
   "source": [
    "def get_verse(theme, word_dict_prob):\n",
    "\t# New verse starts with capitalized theme word\n",
    "\tnew_verse = theme.capitalize()\n",
    "\tcrt_word = theme\n",
    "\n",
    "\twhile len(new_verse.split(' ')) < n_words:\n",
    "\t\tnext_word = random.choices(list(word_dict_prob[crt_word].keys()), word_dict_prob[crt_word].values())[0]\n",
    "\t\tcrt_word = next_word\n",
    "\t\tnew_verse += ' ' + next_word\n",
    "\n",
    "\tif new_verse[-1] in string.punctuation:\n",
    "\t\tnew_verse = new_verse[:-1] + '.'\n",
    "\telse:\n",
    "\t\tnew_verse += '.'\n",
    "\n",
    "\twith open(\"verses/\" + theme + \".txt\", \"w\") as file:\n",
    "\t\tfile.write(new_verse)"
   ]
  },
  {
   "cell_type": "code",
   "execution_count": null,
   "metadata": {},
   "outputs": [],
   "source": [
    "#get_verse(\"death\", word_dict_prob)"
   ]
  },
  {
   "cell_type": "code",
   "execution_count": 61,
   "metadata": {},
   "outputs": [],
   "source": [
    "theme_list = [\"angel\", \"blood\", \"death\", \"devil\", \"earth\", \"fire\", \"God\", \"heaven\", \"hell\", \"shame\", \"war\"]\n",
    "\n",
    "#for theme in theme_list:\n",
    "#    get_verse(theme, word_dict_prob)"
   ]
  }
 ],
 "metadata": {
  "kernelspec": {
   "display_name": "Python 3.8.10 64-bit",
   "language": "python",
   "name": "python3"
  },
  "language_info": {
   "codemirror_mode": {
    "name": "ipython",
    "version": 3
   },
   "file_extension": ".py",
   "mimetype": "text/x-python",
   "name": "python",
   "nbconvert_exporter": "python",
   "pygments_lexer": "ipython3",
   "version": "3.8.10"
  },
  "orig_nbformat": 4,
  "vscode": {
   "interpreter": {
    "hash": "08d116ebf62b0d907cd2d2f0687b9c156192033d3c19040f3be997c69f1b190c"
   }
  }
 },
 "nbformat": 4,
 "nbformat_minor": 2
}
