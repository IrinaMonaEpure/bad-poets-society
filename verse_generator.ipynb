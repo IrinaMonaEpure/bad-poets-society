{
 "cells": [
  {
   "cell_type": "markdown",
   "metadata": {},
   "source": [
    "# Generating Apocalyptic Poems Inspired by the Book of Revelation"
   ]
  },
  {
   "cell_type": "markdown",
   "metadata": {},
   "source": [
    "### Preprocessing Inspiring Set\n",
    "Create an ordered list of all the words in the Book of Revelation."
   ]
  },
  {
   "cell_type": "code",
   "execution_count": 1,
   "metadata": {},
   "outputs": [],
   "source": [
    "inspiration = open(\"book_of_revelation.txt\", \"r\").read()\n",
    "inspiration = ''.join([i for i in inspiration]).replace(\"\\n\", \" \").split(' ')"
   ]
  },
  {
   "cell_type": "code",
   "execution_count": 23,
   "metadata": {},
   "outputs": [],
   "source": [
    "i = 1\n",
    "word_dict = {}\n",
    "n_words = 100\n"
   ]
  },
  {
   "cell_type": "code",
   "execution_count": 24,
   "metadata": {},
   "outputs": [],
   "source": [
    "for i in range(1, len(inspiration)):\n",
    "\tword = inspiration[i]\n",
    "\t#print(word)\n",
    "\tkey = inspiration[i - 1]\n",
    "\tif key in word_dict:\n",
    "\t\tif word in word_dict[key]:\n",
    "\t\t\tword_dict[key][word] += 1\n",
    "\t\telse:\n",
    "\t\t\tword_dict[key][word] = 1\n",
    "\telse:\n",
    "\t\tword_dict[key] = {word: 1}"
   ]
  },
  {
   "cell_type": "code",
   "execution_count": 21,
   "metadata": {},
   "outputs": [],
   "source": [
    "#print(word_dict)"
   ]
  },
  {
   "cell_type": "code",
   "execution_count": 26,
   "metadata": {},
   "outputs": [],
   "source": [
    "def get_after_words_prob(word_dict):\n",
    "    word_dict_prob = word_dict.copy()\n",
    "    for key_word in word_dict:\n",
    "        words_after_key_word = word_dict[key_word]\n",
    "        # print(words_after_key_word)\n",
    "        sum_occurences = 0\n",
    "        for word in words_after_key_word:\n",
    "            # print(words_after_key_word[word])\n",
    "            sum_occurences += words_after_key_word[word]\n",
    "        for word in words_after_key_word:\n",
    "            word_dict_prob[key_word][word] = word_dict[key_word][word]/sum_occurences\n",
    "\n",
    "    return word_dict_prob"
   ]
  },
  {
   "cell_type": "code",
   "execution_count": 28,
   "metadata": {},
   "outputs": [],
   "source": [
    "word_dict_prob = get_after_words_prob(word_dict)\n",
    "#print(word_dict_prob)"
   ]
  },
  {
   "cell_type": "code",
   "execution_count": 30,
   "metadata": {},
   "outputs": [],
   "source": [
    "first_word = \"death\"\n",
    "new_verse = first_word.capitalize()"
   ]
  },
  {
   "cell_type": "code",
   "execution_count": 33,
   "metadata": {},
   "outputs": [],
   "source": [
    "import random\n",
    "\n",
    "crt_word = first_word\n",
    "while len(new_verse.split(' ')) < n_words:\n",
    "\tnext_word = random.choices(list(word_dict_prob[crt_word].keys()), word_dict_prob[crt_word].values())[0]\n",
    "\tcrt_word = next_word\n",
    "\tnew_verse += ' ' + next_word\n",
    "\n",
    "new_verse += '.'"
   ]
  },
  {
   "cell_type": "code",
   "execution_count": 34,
   "metadata": {},
   "outputs": [],
   "source": [
    "with open(first_word + \".txt\", \"w\") as file:\n",
    "\tfile.write(new_verse)\n"
   ]
  }
 ],
 "metadata": {
  "kernelspec": {
   "display_name": "Python 3.8.10 64-bit",
   "language": "python",
   "name": "python3"
  },
  "language_info": {
   "codemirror_mode": {
    "name": "ipython",
    "version": 3
   },
   "file_extension": ".py",
   "mimetype": "text/x-python",
   "name": "python",
   "nbconvert_exporter": "python",
   "pygments_lexer": "ipython3",
   "version": "3.8.10"
  },
  "orig_nbformat": 4,
  "vscode": {
   "interpreter": {
    "hash": "08d116ebf62b0d907cd2d2f0687b9c156192033d3c19040f3be997c69f1b190c"
   }
  }
 },
 "nbformat": 4,
 "nbformat_minor": 2
}
